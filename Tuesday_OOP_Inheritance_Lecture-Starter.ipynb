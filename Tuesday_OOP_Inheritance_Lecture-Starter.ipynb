{
 "cells": [
  {
   "cell_type": "markdown",
   "metadata": {},
   "source": [
    "# Object-Oriented-Programming Inheritance and Importing Modules"
   ]
  },
  {
   "cell_type": "markdown",
   "metadata": {},
   "source": [
    "## Tasks Today:\n",
    "\n",
    "   \n",
    "1) <b>Dunder Methods</b> <br>\n",
    " &nbsp;&nbsp;&nbsp;&nbsp; a) The \\__str\\__() Methodo <br>\n",
    " &nbsp;&nbsp;&nbsp;&nbsp; b) The \\__repr\\__() Method <br>\n",
    " &nbsp;&nbsp;&nbsp;&nbsp; c) Other Magic Methods <br>\n",
    " &nbsp;&nbsp;&nbsp;&nbsp; d) In-Class Exercise #1 - Create a class Animal that displays the species and animal name when printed <br>  \n",
    "2) <b>Inheritance</b> <br>\n",
    " &nbsp;&nbsp;&nbsp;&nbsp; a) Syntax for Inheriting from a Parent Class <br>\n",
    " &nbsp;&nbsp;&nbsp;&nbsp; b) The \\__init\\__() Method for a Child Class (super()) <br>\n",
    " &nbsp;&nbsp;&nbsp;&nbsp; c) Defining Attributes and Methods for the Child Class <br>\n",
    " &nbsp;&nbsp;&nbsp;&nbsp; d) Method Overriding <br>\n",
    " &nbsp;&nbsp;&nbsp;&nbsp; e) In-Class Exercise #2 - Create a class 'Ford' that inherits from 'Car' class and initialize it as a Blue Ford Explorer with 4 wheels using the super() method <br>\n",
    "3) <b>Modules</b> <br>\n",
    " &nbsp;&nbsp;&nbsp;&nbsp; a) Importing Modules<br>\n",
    " &nbsp;&nbsp;&nbsp;&nbsp; b) Importing from modules <br>\n",
    " &nbsp;&nbsp;&nbsp;&nbsp; c) Aliasing <br>\n",
    " &nbsp;&nbsp;&nbsp;&nbsp; d) Creating Modules <br>\n",
    "4) <b>Exercises</b> <br>\n",
    " &nbsp;&nbsp;&nbsp;&nbsp; a) Exercise #1 - Sales and Development Employees Inheritance <br>\n",
    " &nbsp;&nbsp;&nbsp;&nbsp; b) Exercise #2 - Geomerty Module"
   ]
  },
  {
   "cell_type": "markdown",
   "metadata": {},
   "source": [
    "### Warm Up"
   ]
  },
  {
   "cell_type": "markdown",
   "metadata": {},
   "source": [
    "Create two classes: one for a user that includes username, email, and password. Another for posts that has a title, body, and author. The author should be an instance of user."
   ]
  },
  {
   "cell_type": "markdown",
   "metadata": {},
   "source": [
    "## Dunder Methods"
   ]
  },
  {
   "cell_type": "code",
   "execution_count": 81,
   "metadata": {},
   "outputs": [
    {
     "data": {
      "text/plain": [
       "'Brian'"
      ]
     },
     "execution_count": 81,
     "metadata": {},
     "output_type": "execute_result"
    }
   ],
   "source": [
    "class User:\n",
    "    def __init__(self, username, email, password):\n",
    "        self.username = username\n",
    "        self.email = email\n",
    "        self.password = password\n",
    "    \n",
    "\n",
    "class Posts:\n",
    "    def __init__(self, title, body, author):\n",
    "        self.title = title\n",
    "        self.body = body\n",
    "        self.author = author\n",
    "    \n",
    "u1 = User('Brian', 'brian@codingtemple.com', 'abddd')\n",
    "p1 = Posts('Some Title', 'some text', u1)\n",
    "\n",
    "p1.author.username\n",
    "#referring things to each other in the spot that needs to be referred/\n",
    "\n",
    "\n"
   ]
  },
  {
   "cell_type": "markdown",
   "metadata": {},
   "source": [
    "#### \\__str\\__()"
   ]
  },
  {
   "cell_type": "code",
   "execution_count": 61,
   "metadata": {},
   "outputs": [
    {
     "name": "stdout",
     "output_type": "stream",
     "text": [
      "Blue Toyota Camry\n",
      "Green Ford Focus\n"
     ]
    }
   ],
   "source": [
    "#invoked when you call print on your object\n",
    "\n",
    "class Car:\n",
    "    def __init__(self, color, make, model, car_id):\n",
    "        self.color = color\n",
    "        self.make = make\n",
    "        self.model = model\n",
    "        self.car_id = car_id\n",
    "    \n",
    "    def __str__(self):\n",
    "        return f\"{self.color. title()} {self.make.title()} {self.model.title()}\"\n",
    "    \n",
    "    def __repr__(self):\n",
    "        return f\"<Car|{self.car_id}{self.make.title()} {self.model.title()}>\"\n",
    "    \n",
    "car1= Car('blue', 'toyota', 'camry', 1)\n",
    "car2 = Car('green', 'ford', 'focus', 2)\n",
    "\n",
    "print(car1)\n",
    "print(car2)"
   ]
  },
  {
   "cell_type": "code",
   "execution_count": 32,
   "metadata": {},
   "outputs": [
    {
     "data": {
      "text/plain": [
       "<Car|Toyota Camry>"
      ]
     },
     "execution_count": 32,
     "metadata": {},
     "output_type": "execute_result"
    }
   ],
   "source": [
    "car1"
   ]
  },
  {
   "cell_type": "markdown",
   "metadata": {},
   "source": [
    "#### \\__repr\\__()"
   ]
  },
  {
   "cell_type": "code",
   "execution_count": null,
   "metadata": {
    "scrolled": true
   },
   "outputs": [],
   "source": [
    "#machine readable_developer friendly more so than end user friendly\n",
    "#built in print function will use the __repr__ if __str__ is not defined\n",
    "#repr is a more tells you its a list of car objects.\n",
    "\n"
   ]
  },
  {
   "cell_type": "code",
   "execution_count": 86,
   "metadata": {},
   "outputs": [
    {
     "data": {
      "text/plain": [
       "<__main__.User at 0x1de7cae5430>"
      ]
     },
     "execution_count": 86,
     "metadata": {},
     "output_type": "execute_result"
    }
   ],
   "source": [
    "class User:\n",
    "    def __init__(self, username, email, password):\n",
    "        self.username = username\n",
    "        self.email = email\n",
    "        self.password = password\n",
    "        \n",
    "    def __str__(self):\n",
    "        return self.username\n",
    "#     def __repr__(self):\n",
    "#         return f\"<user | {self.username}>\"\n",
    "\n",
    "    \n",
    "u2 = User('coolguy123', 'cool@guy.com', 'abc123')\n",
    "u2 "
   ]
  },
  {
   "cell_type": "code",
   "execution_count": 87,
   "metadata": {},
   "outputs": [
    {
     "name": "stdout",
     "output_type": "stream",
     "text": [
      "coolguy123 has been created\n"
     ]
    },
    {
     "data": {
      "text/plain": [
       "[<__main__.User at 0x1de7cae5e50>]"
      ]
     },
     "execution_count": 87,
     "metadata": {},
     "output_type": "execute_result"
    }
   ],
   "source": [
    "# def main():\n",
    "new_users = []\n",
    "u2 = User('coolguy123', 'cool@guy.com', 'abc123')\n",
    "new_users.append(u2)\n",
    "print(f'{u2} has been created')\n",
    "new_users\n",
    "\n",
    "# main()\n"
   ]
  },
  {
   "cell_type": "markdown",
   "metadata": {},
   "source": [
    "#### \\__lt\\__(), \\__lte\\__(), \\__eq\\__(), etc"
   ]
  },
  {
   "cell_type": "code",
   "execution_count": 40,
   "metadata": {},
   "outputs": [
    {
     "ename": "TypeError",
     "evalue": "unsupported operand type(s) for +: 'Car' and 'Car'",
     "output_type": "error",
     "traceback": [
      "\u001b[1;31m---------------------------------------------------------------------------\u001b[0m",
      "\u001b[1;31mTypeError\u001b[0m                                 Traceback (most recent call last)",
      "\u001b[1;32m~\\AppData\\Local\\Temp\\ipykernel_39880\\1851070722.py\u001b[0m in \u001b[0;36m<module>\u001b[1;34m\u001b[0m\n\u001b[1;32m----> 1\u001b[1;33m \u001b[0mcar1\u001b[0m \u001b[1;33m+\u001b[0m \u001b[0mcar2\u001b[0m\u001b[1;33m\u001b[0m\u001b[1;33m\u001b[0m\u001b[0m\n\u001b[0m",
      "\u001b[1;31mTypeError\u001b[0m: unsupported operand type(s) for +: 'Car' and 'Car'"
     ]
    }
   ],
   "source": [
    "car1 + car2"
   ]
  },
  {
   "cell_type": "code",
   "execution_count": 79,
   "metadata": {},
   "outputs": [
    {
     "name": "stdout",
     "output_type": "stream",
     "text": [
      "cup: $9.99 X 2\n",
      "Lamp: $49.99 X 1\n"
     ]
    }
   ],
   "source": [
    "class Item:\n",
    "    def __init__(self, name, price, quantity):\n",
    "        self.name = name\n",
    "        self.price = price\n",
    "        self.quantity = quantity\n",
    "    def __str__(self):\n",
    "        return f\"{self.name}: ${self.price} X {self.quantity}\"\n",
    "    \n",
    "    def __repr__(self):\n",
    "        return f\"<Item| {self.name} >\"\n",
    "    \n",
    "    def __lt__(self, other_item):\n",
    "        print(\"self:\", self)\n",
    "        print(\"other item:\", other_item)\n",
    "        return self.price * self.quantity < other_item.price * other_item.quantity\n",
    "    \n",
    "    def __le__(self, other_item):\n",
    "        return self.price * self.quantity <= other_item.price *other_item.quantity\n",
    "    \n",
    "    def __add__(self, value_to_add):\n",
    "        self.quantity += value_to_add\n",
    "        return self\n",
    "    def __sub__(self, value_to_sub):\n",
    "        self.quantity -= value_to_sub\n",
    "        return self\n",
    "    \n",
    "item1 = Item('cup', 9.99, 2)\n",
    "print(item1)\n",
    "item2 = Item('Lamp', 49.99, 1)\n",
    "print(item2)"
   ]
  },
  {
   "cell_type": "code",
   "execution_count": 77,
   "metadata": {},
   "outputs": [
    {
     "name": "stdout",
     "output_type": "stream",
     "text": [
      "self: Lamp: $49.99 X 1\n",
      "other item: cup: $9.99 X 2\n"
     ]
    },
    {
     "data": {
      "text/plain": [
       "False"
      ]
     },
     "execution_count": 77,
     "metadata": {},
     "output_type": "execute_result"
    }
   ],
   "source": [
    "item2 < item1"
   ]
  },
  {
   "cell_type": "code",
   "execution_count": 80,
   "metadata": {},
   "outputs": [
    {
     "name": "stdout",
     "output_type": "stream",
     "text": [
      "cup: $9.99 X 2\n",
      "cup: $9.99 X -1\n",
      "cup: $9.99 X -1\n"
     ]
    }
   ],
   "source": [
    "print(item1)\n",
    "\n",
    "print(item1-3)\n",
    "\n",
    "print(item1)"
   ]
  },
  {
   "cell_type": "code",
   "execution_count": 56,
   "metadata": {},
   "outputs": [
    {
     "name": "stdout",
     "output_type": "stream",
     "text": [
      "cup: $9.99 X 12\n"
     ]
    }
   ],
   "source": [
    "item1 += 10\n",
    "print(item1)"
   ]
  },
  {
   "cell_type": "markdown",
   "metadata": {},
   "source": [
    "#### In-class Exercise 1"
   ]
  },
  {
   "cell_type": "code",
   "execution_count": 88,
   "metadata": {},
   "outputs": [
    {
     "name": "stdout",
     "output_type": "stream",
     "text": [
      "Buddy is a species of lion\n",
      "Latte is a species of dog\n",
      "<Animal| Buddy >\n"
     ]
    }
   ],
   "source": [
    "# Create a class Animal that displays the name and species when printed\n",
    "\n",
    "# leo = Animal('Leo', 'lion')\n",
    "# print(leo) #leo the lion\n",
    "\n",
    "class Animal:\n",
    "    def __init__ (self, name, species):\n",
    "        self.name = name\n",
    "        self.species = species\n",
    "    \n",
    "    def __str__(self):\n",
    "        return f\"{self.name} is a species of {self.species}\"\n",
    "        \n",
    "    def __repr__(self):\n",
    "        return f\"<Animal| {self.name} >\"\n",
    "\n",
    "animal1= Animal('Buddy' , 'lion')\n",
    "animal2 = Animal('Latte', 'dog')\n",
    "\n",
    "print(animal1)\n",
    "print(animal2)\n",
    "print(repr(animal1))"
   ]
  },
  {
   "cell_type": "code",
   "execution_count": null,
   "metadata": {},
   "outputs": [],
   "source": []
  },
  {
   "cell_type": "markdown",
   "metadata": {},
   "source": [
    "## Inheritance <br>\n",
    "<p>You can create a child-parent relationship between two classes by using inheritance. What this allows you to do is have overriding methods, but also inherit traits from the parent class. Think of it as an actual parent and child, the child will inherit the parent's genes, as will the classes in OOP</p>"
   ]
  },
  {
   "cell_type": "markdown",
   "metadata": {},
   "source": [
    "##### Syntax for Inheriting from a Parent Class"
   ]
  },
  {
   "cell_type": "code",
   "execution_count": 97,
   "metadata": {},
   "outputs": [
    {
     "name": "stdout",
     "output_type": "stream",
     "text": [
      "length: 10 x width: 15\n",
      "this is da rect\n",
      "150\n",
      "50\n"
     ]
    }
   ],
   "source": [
    "# Syntax: class Child(Parent):\n",
    "\n",
    "class Rectangle: #parent class\n",
    "    sides = 4 #class attribute\n",
    "    \n",
    "    def __init__(self, length, width):\n",
    "        self.length = length\n",
    "        self.width = width\n",
    "    \n",
    "    def __str__(self):\n",
    "        return f'length: {self.length} x width: {self.width}'\n",
    "    \n",
    "    def area(self):\n",
    "        print(\"this is da rect\")\n",
    "        return self.length * self.width\n",
    "\n",
    "    def perimeter(self):\n",
    "        return 2*self.length + 2*self.width\n",
    "    \n",
    "class Square(Rectangle):\n",
    "    def area(self):\n",
    "        print(\"This is da square one\")\n",
    "        return self.length **2\n",
    "    \n",
    "my_rectangle = Rectangle(10, 15)\n",
    "print(my_rectangle)\n",
    "print(my_rectangle.area())\n",
    "print(my_rectangle.perimeter())\n",
    "\n",
    "\n"
   ]
  },
  {
   "cell_type": "code",
   "execution_count": 98,
   "metadata": {
    "scrolled": true
   },
   "outputs": [
    {
     "name": "stdout",
     "output_type": "stream",
     "text": [
      "length: 5 x width: 5\n",
      "This is da square one\n",
      "25\n",
      "20\n",
      "4\n"
     ]
    }
   ],
   "source": [
    "my_square = Square(5, 5)\n",
    "print(my_square)\n",
    "print(my_square.area())\n",
    "print(my_square.perimeter())\n",
    "print(my_square.sides)"
   ]
  },
  {
   "cell_type": "markdown",
   "metadata": {},
   "source": [
    "##### The \\__init\\__() Method for a Child Class - super()"
   ]
  },
  {
   "cell_type": "code",
   "execution_count": 104,
   "metadata": {
    "scrolled": true
   },
   "outputs": [
    {
     "name": "stdout",
     "output_type": "stream",
     "text": [
      "this is the rectangle init method\n",
      "length: 10 x width: 15\n",
      "this is da rect\n",
      "150\n",
      "50\n",
      "==================================================\n",
      "this is the square init method\n",
      "this is the rectangle init method\n",
      "length: 5 x width: 5\n"
     ]
    }
   ],
   "source": [
    "\n",
    "class Rectangle: #parent class\n",
    "    sides = 4 #class attribute\n",
    "    \n",
    "    def __init__(self, length, width):\n",
    "        print(\"this is the rectangle init method\")\n",
    "        self.length = length\n",
    "        self.width = width\n",
    "    \n",
    "    def __str__(self):\n",
    "        return f'length: {self.length} x width: {self.width}'\n",
    "    \n",
    "    def area(self):\n",
    "        print(\"this is da rect\")\n",
    "        return self.length * self.width\n",
    "\n",
    "    def perimeter(self):\n",
    "        return 2*self.length + 2*self.width\n",
    "    \n",
    "class Square(Rectangle):\n",
    "    def __init__ (self, side):\n",
    "        print('this is the square init method')\n",
    "        super().__init__(side, side)\n",
    "        self.all_sides_equal = True\n",
    "        \n",
    "        \n",
    "    def area(self):\n",
    "        print(\"This is da square one\")\n",
    "        \n",
    "        rect_area = super().area()\n",
    "        print('from the super')\n",
    "        return self.length **2\n",
    "    \n",
    "my_rectangle = Rectangle(10, 15)\n",
    "print(my_rectangle)\n",
    "print(my_rectangle.area())\n",
    "print(my_rectangle.perimeter())\n",
    "print('='*50)\n",
    "my_square=Square (5)\n",
    "print(my_square)\n",
    "    "
   ]
  },
  {
   "cell_type": "code",
   "execution_count": 103,
   "metadata": {},
   "outputs": [
    {
     "name": "stdout",
     "output_type": "stream",
     "text": [
      "{'length': 5, 'width': 5, 'all_sides_equal': True}\n"
     ]
    }
   ],
   "source": [
    "print(my_square.__dict__)"
   ]
  },
  {
   "cell_type": "code",
   "execution_count": null,
   "metadata": {
    "scrolled": true
   },
   "outputs": [],
   "source": []
  },
  {
   "cell_type": "code",
   "execution_count": null,
   "metadata": {},
   "outputs": [],
   "source": []
  },
  {
   "cell_type": "markdown",
   "metadata": {},
   "source": [
    "#### In-class Exercise 2"
   ]
  },
  {
   "cell_type": "markdown",
   "metadata": {},
   "source": [
    "Create a Car class that has a drive and fill up method, and then create a Ford class that inherits from the car class."
   ]
  },
  {
   "cell_type": "code",
   "execution_count": 127,
   "metadata": {},
   "outputs": [
    {
     "name": "stdout",
     "output_type": "stream",
     "text": [
      "Ford\n",
      "blue Ford Focus is driving\n",
      "this is formatted blue Ford Focus\n",
      "red Toyota camry is driving\n",
      "this is formatted red Toyota camry\n"
     ]
    }
   ],
   "source": [
    "class Car:\n",
    "    def __init__(self, color, model):\n",
    "        self.color = color\n",
    "        self.model = model\n",
    "    def __str__(self):\n",
    "        return f\"{self.color} {self.make} {self.model}\"\n",
    "    \n",
    "    def drive(self):\n",
    "        print(f\"{self} is driving\")\n",
    "    \n",
    "    def fill_up(self):\n",
    "        print(f'this is formatted {self}')\n",
    "               \n",
    "class Ford(Car):\n",
    "    make = 'Ford'\n",
    "\n",
    "class Toyota(Car):\n",
    "    make = 'Toyota'\n",
    "\n",
    "\n",
    "my_car = Ford('blue', 'Focus')\n",
    "\n",
    "print(my_car.make)\n",
    "\n",
    "my_car.drive() # 'blue Ford Focus is driving'\n",
    "\n",
    "my_car.fill_up() # 'Filling up blue Ford Focus'\n",
    "\n",
    "my_other_car = Toyota('red', 'camry')\n",
    "\n",
    "my_other_car.drive()\n",
    "my_other_car.fill_up()\n"
   ]
  },
  {
   "cell_type": "code",
   "execution_count": null,
   "metadata": {},
   "outputs": [],
   "source": []
  },
  {
   "cell_type": "code",
   "execution_count": null,
   "metadata": {},
   "outputs": [],
   "source": []
  },
  {
   "cell_type": "code",
   "execution_count": null,
   "metadata": {},
   "outputs": [],
   "source": []
  },
  {
   "cell_type": "markdown",
   "metadata": {},
   "source": [
    "## Modules"
   ]
  },
  {
   "cell_type": "markdown",
   "metadata": {},
   "source": [
    "##### Importing Entire Modules"
   ]
  },
  {
   "cell_type": "code",
   "execution_count": 129,
   "metadata": {},
   "outputs": [
    {
     "name": "stdout",
     "output_type": "stream",
     "text": [
      "<module 'math' (built-in)>\n"
     ]
    }
   ],
   "source": [
    "# import name_of_module\n",
    "import math\n",
    "print(math)\n"
   ]
  },
  {
   "cell_type": "code",
   "execution_count": 131,
   "metadata": {},
   "outputs": [
    {
     "name": "stdout",
     "output_type": "stream",
     "text": [
      "120\n",
      "3.141592653589793\n"
     ]
    }
   ],
   "source": [
    "five_factorial = math.factorial(5)\n",
    "print(five_factorial)\n",
    "\n",
    "print(math.pi)"
   ]
  },
  {
   "cell_type": "markdown",
   "metadata": {},
   "source": [
    "##### Importing Methods Only"
   ]
  },
  {
   "cell_type": "code",
   "execution_count": 135,
   "metadata": {},
   "outputs": [
    {
     "name": "stdout",
     "output_type": "stream",
     "text": [
      "<function mean at 0x000001DE7CC270D0>\n",
      "<function median at 0x000001DE7CC27310>\n"
     ]
    }
   ],
   "source": [
    "# from module_name import class, function, constant, etc.\n",
    "from statistics import mean, median\n",
    "\n",
    "print(mean)\n",
    "print(median)"
   ]
  },
  {
   "cell_type": "code",
   "execution_count": 136,
   "metadata": {},
   "outputs": [
    {
     "name": "stdout",
     "output_type": "stream",
     "text": [
      "4.5\n",
      "4.0\n"
     ]
    }
   ],
   "source": [
    "my_list = [3, 4, 5, 6, 7, 4, 3, 4]\n",
    "print(mean(my_list))\n",
    "print(median(my_list))"
   ]
  },
  {
   "cell_type": "markdown",
   "metadata": {},
   "source": [
    "##### Using the 'as' Keyword"
   ]
  },
  {
   "cell_type": "code",
   "execution_count": 140,
   "metadata": {},
   "outputs": [
    {
     "name": "stdout",
     "output_type": "stream",
     "text": [
      "<bound method Random.randint of <random.Random object at 0x000001DE78649700>>\n",
      "9\n"
     ]
    }
   ],
   "source": [
    "# import module as new_name\n",
    "# from module import function as f\n",
    "from random import randint as get_random_number\n",
    "\n",
    "print(get_random_number)\n",
    "\n",
    "print(get_random_number(1,10))"
   ]
  },
  {
   "cell_type": "code",
   "execution_count": 143,
   "metadata": {},
   "outputs": [
    {
     "name": "stdout",
     "output_type": "stream",
     "text": [
      "<module 'collections' from 'C:\\\\Users\\\\14085\\\\anaconda3\\\\lib\\\\collections\\\\__init__.py'>\n",
      "<class 'collections.Counter'>\n",
      "Counter({1: 6, 3: 5, 4: 5, 2: 2})\n"
     ]
    }
   ],
   "source": [
    "import collections as col\n",
    "\n",
    "print(col)\n",
    "print(col.Counter)\n",
    "\n",
    "num_count = col.Counter([1, 1, 1, 1, 1, 1, 2, 3, 4, 4, 4, 4, 4, 2, 3, 3, 3, 3])\n",
    "print(num_count)"
   ]
  },
  {
   "cell_type": "code",
   "execution_count": 1,
   "metadata": {},
   "outputs": [
    {
     "name": "stdout",
     "output_type": "stream",
     "text": [
      "hello this is the test module\n"
     ]
    }
   ],
   "source": [
    "# Using VS Code\n",
    "import module_test"
   ]
  },
  {
   "cell_type": "code",
   "execution_count": 5,
   "metadata": {},
   "outputs": [
    {
     "name": "stdout",
     "output_type": "stream",
     "text": [
      "<module 'module_test' from 'C:\\\\Users\\\\14085\\\\Documents\\\\Kekambas-106\\\\week3\\\\day2\\\\module_test.py'>\n"
     ]
    }
   ],
   "source": [
    "print(module_test)"
   ]
  },
  {
   "cell_type": "code",
   "execution_count": 2,
   "metadata": {},
   "outputs": [
    {
     "name": "stdout",
     "output_type": "stream",
     "text": [
      "hello Jen, how are you doing today? hope you're well\n"
     ]
    }
   ],
   "source": [
    "module_test.greet('jen')"
   ]
  },
  {
   "cell_type": "code",
   "execution_count": 3,
   "metadata": {},
   "outputs": [
    {
     "name": "stdout",
     "output_type": "stream",
     "text": [
      "goodbye Jenneh, it was a pleasure. bye\n"
     ]
    }
   ],
   "source": [
    "module_test.leave('jenneh')"
   ]
  },
  {
   "cell_type": "code",
   "execution_count": 9,
   "metadata": {},
   "outputs": [],
   "source": [
    "#folder modules\n",
    "import folder_module"
   ]
  },
  {
   "cell_type": "code",
   "execution_count": 10,
   "metadata": {},
   "outputs": [
    {
     "data": {
      "text/plain": [
       "13"
      ]
     },
     "execution_count": 10,
     "metadata": {},
     "output_type": "execute_result"
    }
   ],
   "source": [
    "folder_module.add_nums(3, 10)"
   ]
  },
  {
   "cell_type": "code",
   "execution_count": 8,
   "metadata": {},
   "outputs": [
    {
     "name": "stdout",
     "output_type": "stream",
     "text": [
      "<module 'folder_module' from 'C:\\\\Users\\\\14085\\\\Documents\\\\Kekambas-106\\\\week3\\\\day2\\\\folder_module\\\\__init__.py'>\n"
     ]
    }
   ],
   "source": [
    "print(folder_module)"
   ]
  }
 ],
 "metadata": {
  "kernelspec": {
   "display_name": "Python 3 (ipykernel)",
   "language": "python",
   "name": "python3"
  },
  "language_info": {
   "codemirror_mode": {
    "name": "ipython",
    "version": 3
   },
   "file_extension": ".py",
   "mimetype": "text/x-python",
   "name": "python",
   "nbconvert_exporter": "python",
   "pygments_lexer": "ipython3",
   "version": "3.9.13"
  }
 },
 "nbformat": 4,
 "nbformat_minor": 2
}
