{
 "cells": [
  {
   "cell_type": "markdown",
   "metadata": {},
   "source": [
    "#### Exercise 1 - Class Inheritance"
   ]
  },
  {
   "cell_type": "markdown",
   "metadata": {},
   "source": [
    "Create an Employee class that sets an employee's first name, last name, job title, salary, and email. The Employee class should have a class attribute for the raise amount set to 5% (1.05). Create a method that will apply the raise to an employee's salary."
   ]
  },
  {
   "cell_type": "code",
   "execution_count": 67,
   "metadata": {},
   "outputs": [
    {
     "name": "stdout",
     "output_type": "stream",
     "text": [
      "Congrats John Smith, you have been given a raise, now your salary is: 73500.0\n",
      "Congrats Jacob Wright, you have been given a raise, now your salary is: 84000.0\n"
     ]
    }
   ],
   "source": [
    "class Employee:\n",
    "    raise_amount = 1.05 \n",
    "    def __init__(self, first, last, job_title, salary, email):\n",
    "        self.first = first.title()\n",
    "        self.last = last.title()\n",
    "        self.job_title = job_title\n",
    "        self.salary = salary\n",
    "        self.email = email\n",
    "    \n",
    "    def apply_raise(self):\n",
    "        self.salary *= self.raise_amount\n",
    "        print(f'Congrats {self.first} {self.last}, you have been given a raise, now your salary is: {self.salary}')\n",
    "        \n",
    "    def full_name(self):\n",
    "        return f'{self.first} {self.last}'\n",
    "              \n",
    "emp1 = Employee('john', 'smith', 'coach', 70000, 'jon@smith.com')\n",
    "emp2 = Employee('jacob', 'wright', 'designer', 80000, 'jacob@wright.com')\n",
    "emp1.apply_raise()\n",
    "emp2.apply_raise()"
   ]
  },
  {
   "cell_type": "code",
   "execution_count": null,
   "metadata": {},
   "outputs": [],
   "source": []
  },
  {
   "cell_type": "markdown",
   "metadata": {},
   "source": [
    "Create two more classes that inherit from the Employee class. One for Sales and one for Development. Both of these classes will have the same attributes as the Employee.<br>\n",
    "- For the Sales employees, add a phone number attribute on instantiation using the super method. \n",
    "- Create a method on the Sales class that will Send a Follow Up Email. It should take in a customer name and \"send\" aka print a formatted email \"Dear *customer*, Thank you for your interest in our product. Please let me know if you have any questions. My email is *email* or my phone number is *phone number*. Thanks, *full name*\"\n",
    "- Create a method on the Development class called code that will print out \"*full name* is writing code\"."
   ]
  },
  {
   "cell_type": "code",
   "execution_count": 74,
   "metadata": {},
   "outputs": [
    {
     "name": "stdout",
     "output_type": "stream",
     "text": [
      "Dear Daniel Chocolate Thank you for your interest in our product. Please let me know if you have any questions.\n",
      "              \n",
      "My email is barry@gmail.com or my phone number is 555-555-5555.Thanks, Barry Weickert\n",
      "John Smith is writing code\n"
     ]
    }
   ],
   "source": [
    "class Sales(Employee):\n",
    "    def __init__(self, first, last, job_title, salary, email, phone_number):\n",
    "        super().__init__(first, last, job_title, salary, email)\n",
    "        self.phone_number = phone_number\n",
    "    \n",
    "    def follow_up(self, customer_name):\n",
    "        print(f'''Dear {customer_name} Thank you for your interest in our product. Please let me know if you have any questions.\n",
    "              \\nMy email is {self.email} or my phone number is {self.phone_number}.Thanks, {self.first} {self.last}''')\n",
    "\n",
    "sales1 = Sales(\"Barry\", \"Weickert\", \"hobo\", 1000, \"barry@gmail.com\", \"4557876677\")\n",
    "sales1.follow_up(\"Daniel Chocolate\")\n",
    "\n",
    "class Development(Employee):\n",
    "    def code(self):\n",
    "        print(f'{self.first} {self.last} is writing code')\n",
    "        \n",
    "emp1 = Development('john', 'smith', 'coach', 70000, 'john@smith.com')\n",
    "\n",
    "emp1.code()"
   ]
  },
  {
   "cell_type": "markdown",
   "metadata": {},
   "source": [
    "- Create an instance of a Sales Employee with a salary of $50,000.\n",
    "- Send follow up emails to \"Mike O'Neil\" and \"Hannah Stern\"\n",
    "- Give the employee a raise and print the salary"
   ]
  },
  {
   "cell_type": "code",
   "execution_count": 75,
   "metadata": {},
   "outputs": [
    {
     "name": "stdout",
     "output_type": "stream",
     "text": [
      "Dear Mike O'Neil Thank you for your interest in our product. Please let me know if you have any questions.\n",
      "              \n",
      "My email is latte@cuppa.com or my phone number is 3332234443.Thanks, Latte Cuppa\n",
      "Dear Hannah Stern Thank you for your interest in our product. Please let me know if you have any questions.\n",
      "              \n",
      "My email is latte@cuppa.com or my phone number is 3332234443.Thanks, Latte Cuppa\n",
      "Congrats Latte Cuppa, you have been given a raise, now your salary is: 52500.0\n"
     ]
    }
   ],
   "source": [
    "salesemp = Sales(\"Latte\", \"Cuppa\", \"doggie supervisor\", 50000, \"latte@cuppa.com\", \"3332234443\")\n",
    "\n",
    "salesemp.follow_up(\"Mike O'Neil\")\n",
    "salesemp.follow_up(\"Hannah Stern\")\n",
    "\n",
    "salesemp.apply_raise()"
   ]
  },
  {
   "cell_type": "markdown",
   "metadata": {},
   "source": [
    "- Create an instance of a Development Employee with a salary of $100,000\n",
    "- Write some code with this employee (aka call the code method)\n",
    "- Give the employee a raise and print the salary"
   ]
  },
  {
   "cell_type": "code",
   "execution_count": 70,
   "metadata": {},
   "outputs": [
    {
     "name": "stdout",
     "output_type": "stream",
     "text": [
      "Stephen Curry is writing code\n",
      "Congrats Stephen Curry, you have been given a raise, now your salary is: 105000.0\n"
     ]
    }
   ],
   "source": [
    "devemp = Development(\"Stephen\", \"Curry\", \"engineer\", 100000, \"steph@curry.com\")\n",
    "devemp.code()\n",
    "devemp.apply_raise()"
   ]
  },
  {
   "cell_type": "markdown",
   "metadata": {},
   "source": [
    "#### Exercise 2 - Importing Modules"
   ]
  },
  {
   "cell_type": "markdown",
   "metadata": {},
   "source": [
    "In VS Code, create a module titled `geometry` and add two functions in there. One that will calculate the area of a circle given a radius. The second will find the hypotenuse of a right angle given the two sides. Import the module or the functions from the module and use it to find the answers to the below questions"
   ]
  },
  {
   "cell_type": "code",
   "execution_count": 71,
   "metadata": {},
   "outputs": [
    {
     "name": "stdout",
     "output_type": "stream",
     "text": [
      "<module 'geometry' from 'C:\\\\Users\\\\14085\\\\Documents\\\\Kekambas-106\\\\week3\\\\day2\\\\geometry.py'>\n"
     ]
    }
   ],
   "source": [
    "import geometry\n",
    "print(geometry)"
   ]
  },
  {
   "cell_type": "code",
   "execution_count": 15,
   "metadata": {},
   "outputs": [
    {
     "name": "stdout",
     "output_type": "stream",
     "text": [
      "153.93804002589985\n"
     ]
    }
   ],
   "source": [
    "geometry.area(7)"
   ]
  },
  {
   "cell_type": "code",
   "execution_count": 11,
   "metadata": {},
   "outputs": [
    {
     "name": "stdout",
     "output_type": "stream",
     "text": [
      "25\n"
     ]
    }
   ],
   "source": []
  },
  {
   "cell_type": "markdown",
   "metadata": {},
   "source": [
    "What is the hypotenuse of a right angle with sides of 3in and 4in?"
   ]
  },
  {
   "cell_type": "code",
   "execution_count": 14,
   "metadata": {},
   "outputs": [
    {
     "name": "stdout",
     "output_type": "stream",
     "text": [
      "25\n"
     ]
    }
   ],
   "source": [
    "geometry.hyp(3, 4)"
   ]
  },
  {
   "cell_type": "code",
   "execution_count": null,
   "metadata": {},
   "outputs": [],
   "source": []
  },
  {
   "cell_type": "code",
   "execution_count": null,
   "metadata": {},
   "outputs": [],
   "source": []
  }
 ],
 "metadata": {
  "kernelspec": {
   "display_name": "Python 3 (ipykernel)",
   "language": "python",
   "name": "python3"
  },
  "language_info": {
   "codemirror_mode": {
    "name": "ipython",
    "version": 3
   },
   "file_extension": ".py",
   "mimetype": "text/x-python",
   "name": "python",
   "nbconvert_exporter": "python",
   "pygments_lexer": "ipython3",
   "version": "3.9.13"
  }
 },
 "nbformat": 4,
 "nbformat_minor": 4
}
